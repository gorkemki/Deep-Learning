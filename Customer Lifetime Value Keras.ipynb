
import numpy as np
import pandas as pd
import seaborn as sns
import matplotlib.pyplot as plt
%matplotlib inline
dataset = pd.read_csv('non_pltv_raw_nom.csv')
dataset.head(2)

dataset.describe(include='all')


X = dataset.iloc[:, :-1].values # Independent Variables
y = dataset.iloc[:, -1].values   # Dependent Variables

from sklearn.model_selection import train_test_split
X_train,X_test,y_train,y_test=train_test_split(X,y,test_size=0.2, random_state=0)  

from sklearn.preprocessing import MinMaxScaler
scaler_X = MinMaxScaler()
X_train = scaler_X.fit_transform(X_train)
X_test = scaler_X.transform(X_test)


y_train =y_train.reshape(-1, 1)
y_test = y_test.reshape(-1, 1)
scaler_y = MinMaxScaler()
y_train = scaler_y.fit_transform(y_train)
y_test = scaler_y.transform(y_test)

from keras import Sequential
from keras.layers import Dense
def build_regressor():
    regressor = Sequential()
    regressor.add(Dense(units=212, input_dim=212,activation='relu'))
    regressor.add(Dense(units=1))
    regressor.compile(optimizer='adam',loss='mean_squared_error',  metrics=['mae','accuracy'])
    return regressor

from keras.wrappers.scikit_learn import KerasRegressor
regressor = KerasRegressor(build_fn=build_regressor, batch_size=32,epochs=100)

results=regressor.fit(X_train,y_train)

y_pred= regressor.predict(X_test)
fig, ax = plt.subplots()
ax.scatter(y_test, y_pred)
ax.plot([y_test.min(), y_test.max()], [y_test.min(), y_test.max()], 'k--', lw=4)
ax.set_xlabel('Measured')
ax.set_ylabel('Predicted')
plt.show()

import sklearn.metrics as metrics
y_pred=y_pred.reshape(-1, 1)
y_test=y_test.reshape(-1, 1)

inv_y_pred = scaler_y.inverse_transform(y_pred) # Rescaling back
inv_y_test = scaler_y.inverse_transform(y_test)
print('Mean absolute Error Rev:', metrics.mean_absolute_error(inv_y_test, inv_y_pred))
print('Mean sq Error Rev:', metrics.mean_squared_error(inv_y_test, inv_y_pred))

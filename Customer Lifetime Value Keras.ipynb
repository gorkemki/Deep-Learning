{
 "cells": [
  {
   "cell_type": "code",
   "execution_count": null,
   "metadata": {},
   "outputs": [],
   "source": [
    "import numpy as np\n",
    "import pandas as pd\n",
    "import seaborn as sns\n",
    "import matplotlib.pyplot as plt\n",
    "%matplotlib inline\n",
    "dataset = pd.read_csv('company_data.csv')\n",
    "dataset.head(2)\n",
    "\n",
    "dataset.describe(include='all')\n",
    "\n",
    "\n",
    "X = dataset.iloc[:, :-1].values # Independent Variables\n",
    "y = dataset.iloc[:, -1].values   # Dependent Variables\n",
    "\n",
    "from sklearn.preprocessing import  MinMaxScaler\n",
    "sc= MinMaxScaler()\n",
    "X= sc.fit_transform(X)\n",
    "y= y.reshape(-1,1)\n",
    "y=sc.fit_transform(y)\n",
    "\n",
    "\n",
    "from sklearn.model_selection import train_test_split\n",
    "X_train,X_test,y_train,y_test=train_test_split(X,y,test_size=0.2, random_state=0)  \n",
    "\n",
    "from keras import Sequential\n",
    "from keras.layers import Dense\n",
    "def build_regressor():\n",
    "    regressor = Sequential()\n",
    "    regressor.add(Dense(units=212, input_dim=212,activation='relu'))\n",
    "    regressor.add(Dense(units=1))\n",
    "    regressor.compile(optimizer='adam',loss='mean_squared_error',  metrics=['mae','accuracy'])\n",
    "    return regressor\n",
    "\n",
    "from keras.wrappers.scikit_learn import KerasRegressor\n",
    "regressor = KerasRegressor(build_fn=build_regressor, batch_size=32,epochs=100)\n",
    "\n",
    "results=regressor.fit(X_train,y_train)\n",
    "\n",
    "y_pred= regressor.predict(X_test)\n",
    "fig, ax = plt.subplots()\n",
    "ax.scatter(y_test, y_pred)\n",
    "ax.plot([y_test.min(), y_test.max()], [y_test.min(), y_test.max()], 'k--', lw=4)\n",
    "ax.set_xlabel('Measured')\n",
    "ax.set_ylabel('Predicted')\n",
    "plt.show()\n",
    "\n",
    "import sklearn.metrics as metrics\n",
    "y_pred=y_pred.reshape(-1, 1)\n",
    "y_test=y_test.reshape(-1, 1)\n",
    "\n",
    "inv_y_pred = sc.inverse_transform(y_pred) # Rescaling back\n",
    "inv_y_test = sc.inverse_transform(y_test)\n",
    "print('Mean absolute Error Rev:', metrics.mean_absolute_error(inv_y_test, inv_y_pred)) \n"
   ]
  }
 ],
 "metadata": {
  "kernelspec": {
   "display_name": "Python 3",
   "language": "python",
   "name": "python3"
  },
  "language_info": {
   "codemirror_mode": {
    "name": "ipython",
    "version": 3
   },
   "file_extension": ".py",
   "mimetype": "text/x-python",
   "name": "python",
   "nbconvert_exporter": "python",
   "pygments_lexer": "ipython3",
   "version": "3.7.1"
  }
 },
 "nbformat": 4,
 "nbformat_minor": 2
}
